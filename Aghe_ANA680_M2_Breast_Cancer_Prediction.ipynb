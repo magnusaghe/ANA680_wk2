{
 "cells": [
  {
   "cell_type": "markdown",
   "id": "406c943e",
   "metadata": {},
   "source": [
    "* **Name: Magnus Aghe** \n",
    "* **Student ID: 900400010** \n",
    "* **Email: m.aghe0010@student.nu.edu** \n",
    "* **Course: ANA680 - MODULE 2 - BREAST CANCER PREDICTION - ASSIGNMENT**"
   ]
  },
  {
   "cell_type": "markdown",
   "id": "65319c7c",
   "metadata": {},
   "source": [
    "**Task**"
   ]
  },
  {
   "cell_type": "markdown",
   "id": "a5695c29",
   "metadata": {},
   "source": [
    "To select the algorithm that produced the best result (accuracy) in Module 1 assignment, retrain the model using this algorithm with the top four relevant features and save the model as a pickle file."
   ]
  },
  {
   "cell_type": "markdown",
   "id": "b8d28de1",
   "metadata": {},
   "source": [
    "**Selected Algorithm**\n",
    "\n",
    "From Module 1 assignment, **Kernel SVM** had the best accuracy of the eight models, with 0.94287 accuracy and 56 True Positive. **Therefore Kernel SVM is our selected model.**"
   ]
  },
  {
   "cell_type": "code",
   "execution_count": 1,
   "id": "5f5b48a4",
   "metadata": {},
   "outputs": [],
   "source": [
    "import warnings\n",
    "import numpy as np\n",
    "import pandas as pd\n",
    "import seaborn as sns\n",
    "import matplotlib.pyplot as plt\n",
    "%matplotlib inline\n",
    "\n",
    "warnings.filterwarnings(\"ignore\")"
   ]
  },
  {
   "cell_type": "code",
   "execution_count": 2,
   "id": "d039e230",
   "metadata": {},
   "outputs": [],
   "source": [
    "from sklearn.model_selection import train_test_split\n",
    "from sklearn.linear_model import LogisticRegression\n",
    "from sklearn import metrics\n",
    "from sklearn.metrics import classification_report\n",
    "from sklearn.metrics import accuracy_score, confusion_matrix\n",
    "from sklearn.neighbors import KNeighborsClassifier\n",
    "from sklearn.svm import SVC\n",
    "from sklearn.naive_bayes import GaussianNB\n",
    "from sklearn.tree import DecisionTreeClassifier\n",
    "from sklearn.ensemble import RandomForestClassifier\n",
    "import xgboost as xgb"
   ]
  },
  {
   "cell_type": "code",
   "execution_count": 3,
   "id": "a89ffda0",
   "metadata": {},
   "outputs": [],
   "source": [
    "# Loading the dataset\n",
    "\n",
    "df=pd.read_csv(\"breast-cancer-wisconsin-data1.csv\", na_values=['NULL', '?', 'NONE'])"
   ]
  },
  {
   "cell_type": "markdown",
   "id": "4e2f2f84",
   "metadata": {},
   "source": [
    "**Exploring and Cleaning the Dataset**"
   ]
  },
  {
   "cell_type": "code",
   "execution_count": 4,
   "id": "91b336b6",
   "metadata": {},
   "outputs": [
    {
     "data": {
      "text/plain": [
       "(699, 11)"
      ]
     },
     "execution_count": 4,
     "metadata": {},
     "output_type": "execute_result"
    }
   ],
   "source": [
    "df.shape"
   ]
  },
  {
   "cell_type": "markdown",
   "id": "a070263f",
   "metadata": {},
   "source": [
    "The dataset has 699 rows and 11 columns"
   ]
  },
  {
   "cell_type": "code",
   "execution_count": 5,
   "id": "cbad1253",
   "metadata": {},
   "outputs": [
    {
     "data": {
      "text/html": [
       "<div>\n",
       "<style scoped>\n",
       "    .dataframe tbody tr th:only-of-type {\n",
       "        vertical-align: middle;\n",
       "    }\n",
       "\n",
       "    .dataframe tbody tr th {\n",
       "        vertical-align: top;\n",
       "    }\n",
       "\n",
       "    .dataframe thead th {\n",
       "        text-align: right;\n",
       "    }\n",
       "</style>\n",
       "<table border=\"1\" class=\"dataframe\">\n",
       "  <thead>\n",
       "    <tr style=\"text-align: right;\">\n",
       "      <th></th>\n",
       "      <th>ID</th>\n",
       "      <th>clump_thickness</th>\n",
       "      <th>uniformity_cell_size</th>\n",
       "      <th>uniformity_cell_shape</th>\n",
       "      <th>marginal_adhesion</th>\n",
       "      <th>single_epi_cell_size</th>\n",
       "      <th>bare_nuclei</th>\n",
       "      <th>bland_chromatin</th>\n",
       "      <th>normal_nucleoli</th>\n",
       "      <th>mitoses</th>\n",
       "      <th>class</th>\n",
       "    </tr>\n",
       "  </thead>\n",
       "  <tbody>\n",
       "    <tr>\n",
       "      <th>0</th>\n",
       "      <td>1000025</td>\n",
       "      <td>5</td>\n",
       "      <td>1</td>\n",
       "      <td>1</td>\n",
       "      <td>1</td>\n",
       "      <td>2</td>\n",
       "      <td>1.0</td>\n",
       "      <td>3</td>\n",
       "      <td>1</td>\n",
       "      <td>1</td>\n",
       "      <td>2</td>\n",
       "    </tr>\n",
       "    <tr>\n",
       "      <th>1</th>\n",
       "      <td>1002945</td>\n",
       "      <td>5</td>\n",
       "      <td>4</td>\n",
       "      <td>4</td>\n",
       "      <td>5</td>\n",
       "      <td>7</td>\n",
       "      <td>10.0</td>\n",
       "      <td>3</td>\n",
       "      <td>2</td>\n",
       "      <td>1</td>\n",
       "      <td>2</td>\n",
       "    </tr>\n",
       "    <tr>\n",
       "      <th>2</th>\n",
       "      <td>1015425</td>\n",
       "      <td>3</td>\n",
       "      <td>1</td>\n",
       "      <td>1</td>\n",
       "      <td>1</td>\n",
       "      <td>2</td>\n",
       "      <td>2.0</td>\n",
       "      <td>3</td>\n",
       "      <td>1</td>\n",
       "      <td>1</td>\n",
       "      <td>2</td>\n",
       "    </tr>\n",
       "    <tr>\n",
       "      <th>3</th>\n",
       "      <td>1016277</td>\n",
       "      <td>6</td>\n",
       "      <td>8</td>\n",
       "      <td>8</td>\n",
       "      <td>1</td>\n",
       "      <td>3</td>\n",
       "      <td>4.0</td>\n",
       "      <td>3</td>\n",
       "      <td>7</td>\n",
       "      <td>1</td>\n",
       "      <td>2</td>\n",
       "    </tr>\n",
       "    <tr>\n",
       "      <th>4</th>\n",
       "      <td>1017023</td>\n",
       "      <td>4</td>\n",
       "      <td>1</td>\n",
       "      <td>1</td>\n",
       "      <td>3</td>\n",
       "      <td>2</td>\n",
       "      <td>1.0</td>\n",
       "      <td>3</td>\n",
       "      <td>1</td>\n",
       "      <td>1</td>\n",
       "      <td>2</td>\n",
       "    </tr>\n",
       "  </tbody>\n",
       "</table>\n",
       "</div>"
      ],
      "text/plain": [
       "        ID  clump_thickness  uniformity_cell_size  uniformity_cell_shape  \\\n",
       "0  1000025                5                     1                      1   \n",
       "1  1002945                5                     4                      4   \n",
       "2  1015425                3                     1                      1   \n",
       "3  1016277                6                     8                      8   \n",
       "4  1017023                4                     1                      1   \n",
       "\n",
       "   marginal_adhesion  single_epi_cell_size  bare_nuclei  bland_chromatin  \\\n",
       "0                  1                     2          1.0                3   \n",
       "1                  5                     7         10.0                3   \n",
       "2                  1                     2          2.0                3   \n",
       "3                  1                     3          4.0                3   \n",
       "4                  3                     2          1.0                3   \n",
       "\n",
       "   normal_nucleoli  mitoses  class  \n",
       "0                1        1      2  \n",
       "1                2        1      2  \n",
       "2                1        1      2  \n",
       "3                7        1      2  \n",
       "4                1        1      2  "
      ]
     },
     "execution_count": 5,
     "metadata": {},
     "output_type": "execute_result"
    }
   ],
   "source": [
    "df.head(5)"
   ]
  },
  {
   "cell_type": "code",
   "execution_count": 6,
   "id": "b608c8c8",
   "metadata": {},
   "outputs": [
    {
     "data": {
      "text/plain": [
       "<bound method DataFrame.info of           ID  clump_thickness  uniformity_cell_size  uniformity_cell_shape  \\\n",
       "0    1000025                5                     1                      1   \n",
       "1    1002945                5                     4                      4   \n",
       "2    1015425                3                     1                      1   \n",
       "3    1016277                6                     8                      8   \n",
       "4    1017023                4                     1                      1   \n",
       "..       ...              ...                   ...                    ...   \n",
       "694   776715                3                     1                      1   \n",
       "695   841769                2                     1                      1   \n",
       "696   888820                5                    10                     10   \n",
       "697   897471                4                     8                      6   \n",
       "698   897471                4                     8                      8   \n",
       "\n",
       "     marginal_adhesion  single_epi_cell_size  bare_nuclei  bland_chromatin  \\\n",
       "0                    1                     2          1.0                3   \n",
       "1                    5                     7         10.0                3   \n",
       "2                    1                     2          2.0                3   \n",
       "3                    1                     3          4.0                3   \n",
       "4                    3                     2          1.0                3   \n",
       "..                 ...                   ...          ...              ...   \n",
       "694                  1                     3          2.0                1   \n",
       "695                  1                     2          1.0                1   \n",
       "696                  3                     7          3.0                8   \n",
       "697                  4                     3          4.0               10   \n",
       "698                  5                     4          5.0               10   \n",
       "\n",
       "     normal_nucleoli  mitoses  class  \n",
       "0                  1        1      2  \n",
       "1                  2        1      2  \n",
       "2                  1        1      2  \n",
       "3                  7        1      2  \n",
       "4                  1        1      2  \n",
       "..               ...      ...    ...  \n",
       "694                1        1      2  \n",
       "695                1        1      2  \n",
       "696               10        2      4  \n",
       "697                6        1      4  \n",
       "698                4        1      4  \n",
       "\n",
       "[699 rows x 11 columns]>"
      ]
     },
     "execution_count": 6,
     "metadata": {},
     "output_type": "execute_result"
    }
   ],
   "source": [
    "df.info"
   ]
  },
  {
   "cell_type": "code",
   "execution_count": 7,
   "id": "8bda927e",
   "metadata": {},
   "outputs": [
    {
     "data": {
      "text/plain": [
       "Index(['ID', 'clump_thickness', 'uniformity_cell_size',\n",
       "       'uniformity_cell_shape', 'marginal_adhesion', 'single_epi_cell_size',\n",
       "       'bare_nuclei', 'bland_chromatin', 'normal_nucleoli', 'mitoses',\n",
       "       'class'],\n",
       "      dtype='object')"
      ]
     },
     "execution_count": 7,
     "metadata": {},
     "output_type": "execute_result"
    }
   ],
   "source": [
    "# Listing the column names\n",
    "\n",
    "df.columns"
   ]
  },
  {
   "cell_type": "code",
   "execution_count": 8,
   "id": "e9c61d55",
   "metadata": {},
   "outputs": [
    {
     "data": {
      "text/plain": [
       "Index([], dtype='object')"
      ]
     },
     "execution_count": 8,
     "metadata": {},
     "output_type": "execute_result"
    }
   ],
   "source": [
    "# Listing categorical features\n",
    "\n",
    "df.select_dtypes(include=['object']).columns"
   ]
  },
  {
   "cell_type": "code",
   "execution_count": 9,
   "id": "3981736a",
   "metadata": {},
   "outputs": [
    {
     "data": {
      "image/png": "[encoded data removed]",
      "text/plain": [
       "<Figure size 800x800 with 2 Axes>"
      ]
     },
     "metadata": {},
     "output_type": "display_data"
    }
   ],
   "source": [
    "# Using correlation matrix and heatmap for feature selection\n",
    "\n",
    "corr=df.corr()\n",
    "plt.figure(figsize=(8, 8))\n",
    "heatmap = sns.heatmap(corr, vmin=-1, vmax=1, annot=True)\n",
    "plt.show()"
   ]
  },
  {
   "cell_type": "code",
   "execution_count": 10,
   "id": "fce1db6f",
   "metadata": {},
   "outputs": [
    {
     "name": "stdout",
     "output_type": "stream",
     "text": [
      "class                    1.000000\n",
      "bare_nuclei              0.822696\n",
      "uniformity_cell_shape    0.818934\n",
      "uniformity_cell_size     0.817904\n",
      "bland_chromatin          0.756616\n",
      "clump_thickness          0.716001\n",
      "normal_nucleoli          0.712244\n",
      "marginal_adhesion        0.696800\n",
      "single_epi_cell_size     0.682785\n",
      "mitoses                  0.423170\n",
      "ID                      -0.080226\n",
      "Name: class, dtype: float64\n"
     ]
    }
   ],
   "source": [
    "tumorclass_corr = df.corr()\n",
    "print(tumorclass_corr['class'].sort_values(ascending=False)) "
   ]
  },
  {
   "cell_type": "markdown",
   "id": "ed5aff36",
   "metadata": {},
   "source": [
    "We shall be using as our predictors, the four features that have the most correlation with class. They are bare_nuclei, uniformity_cell_shape, uniformity_cell_size, and bland_chromatin."
   ]
  },
  {
   "cell_type": "code",
   "execution_count": 11,
   "id": "4e13e78f",
   "metadata": {},
   "outputs": [
    {
     "data": {
      "text/plain": [
       "ID                         int64\n",
       "clump_thickness            int64\n",
       "uniformity_cell_size       int64\n",
       "uniformity_cell_shape      int64\n",
       "marginal_adhesion          int64\n",
       "single_epi_cell_size       int64\n",
       "bare_nuclei              float64\n",
       "bland_chromatin            int64\n",
       "normal_nucleoli            int64\n",
       "mitoses                    int64\n",
       "class                      int64\n",
       "dtype: object"
      ]
     },
     "execution_count": 11,
     "metadata": {},
     "output_type": "execute_result"
    }
   ],
   "source": [
    "df.dtypes"
   ]
  },
  {
   "cell_type": "code",
   "execution_count": 12,
   "id": "e2937f08",
   "metadata": {},
   "outputs": [],
   "source": [
    "# Converting 'class' to categorical and 'ID' as object\n",
    "\n",
    "df['class'] = df['class'].astype('category')\n",
    "df['ID'] = df['ID'].astype('object')"
   ]
  },
  {
   "cell_type": "code",
   "execution_count": 13,
   "id": "c050f6b1",
   "metadata": {},
   "outputs": [
    {
     "data": {
      "text/plain": [
       "Index(['ID'], dtype='object')"
      ]
     },
     "execution_count": 13,
     "metadata": {},
     "output_type": "execute_result"
    }
   ],
   "source": [
    "df.select_dtypes(include=['object']).columns"
   ]
  },
  {
   "cell_type": "code",
   "execution_count": 14,
   "id": "1f5f5f06",
   "metadata": {},
   "outputs": [
    {
     "data": {
      "text/html": [
       "<div>\n",
       "<style scoped>\n",
       "    .dataframe tbody tr th:only-of-type {\n",
       "        vertical-align: middle;\n",
       "    }\n",
       "\n",
       "    .dataframe tbody tr th {\n",
       "        vertical-align: top;\n",
       "    }\n",
       "\n",
       "    .dataframe thead th {\n",
       "        text-align: right;\n",
       "    }\n",
       "</style>\n",
       "<table border=\"1\" class=\"dataframe\">\n",
       "  <thead>\n",
       "    <tr style=\"text-align: right;\">\n",
       "      <th></th>\n",
       "      <th>count</th>\n",
       "      <th>mean</th>\n",
       "      <th>std</th>\n",
       "      <th>min</th>\n",
       "      <th>25%</th>\n",
       "      <th>50%</th>\n",
       "      <th>75%</th>\n",
       "      <th>max</th>\n",
       "    </tr>\n",
       "  </thead>\n",
       "  <tbody>\n",
       "    <tr>\n",
       "      <th>clump_thickness</th>\n",
       "      <td>699.0</td>\n",
       "      <td>4.42</td>\n",
       "      <td>2.82</td>\n",
       "      <td>1.0</td>\n",
       "      <td>2.0</td>\n",
       "      <td>4.0</td>\n",
       "      <td>6.0</td>\n",
       "      <td>10.0</td>\n",
       "    </tr>\n",
       "    <tr>\n",
       "      <th>uniformity_cell_size</th>\n",
       "      <td>699.0</td>\n",
       "      <td>3.13</td>\n",
       "      <td>3.05</td>\n",
       "      <td>1.0</td>\n",
       "      <td>1.0</td>\n",
       "      <td>1.0</td>\n",
       "      <td>5.0</td>\n",
       "      <td>10.0</td>\n",
       "    </tr>\n",
       "    <tr>\n",
       "      <th>uniformity_cell_shape</th>\n",
       "      <td>699.0</td>\n",
       "      <td>3.21</td>\n",
       "      <td>2.97</td>\n",
       "      <td>1.0</td>\n",
       "      <td>1.0</td>\n",
       "      <td>1.0</td>\n",
       "      <td>5.0</td>\n",
       "      <td>10.0</td>\n",
       "    </tr>\n",
       "    <tr>\n",
       "      <th>marginal_adhesion</th>\n",
       "      <td>699.0</td>\n",
       "      <td>2.81</td>\n",
       "      <td>2.86</td>\n",
       "      <td>1.0</td>\n",
       "      <td>1.0</td>\n",
       "      <td>1.0</td>\n",
       "      <td>4.0</td>\n",
       "      <td>10.0</td>\n",
       "    </tr>\n",
       "    <tr>\n",
       "      <th>single_epi_cell_size</th>\n",
       "      <td>699.0</td>\n",
       "      <td>3.22</td>\n",
       "      <td>2.21</td>\n",
       "      <td>1.0</td>\n",
       "      <td>2.0</td>\n",
       "      <td>2.0</td>\n",
       "      <td>4.0</td>\n",
       "      <td>10.0</td>\n",
       "    </tr>\n",
       "    <tr>\n",
       "      <th>bare_nuclei</th>\n",
       "      <td>683.0</td>\n",
       "      <td>3.54</td>\n",
       "      <td>3.64</td>\n",
       "      <td>1.0</td>\n",
       "      <td>1.0</td>\n",
       "      <td>1.0</td>\n",
       "      <td>6.0</td>\n",
       "      <td>10.0</td>\n",
       "    </tr>\n",
       "    <tr>\n",
       "      <th>bland_chromatin</th>\n",
       "      <td>699.0</td>\n",
       "      <td>3.44</td>\n",
       "      <td>2.44</td>\n",
       "      <td>1.0</td>\n",
       "      <td>2.0</td>\n",
       "      <td>3.0</td>\n",
       "      <td>5.0</td>\n",
       "      <td>10.0</td>\n",
       "    </tr>\n",
       "    <tr>\n",
       "      <th>normal_nucleoli</th>\n",
       "      <td>699.0</td>\n",
       "      <td>2.87</td>\n",
       "      <td>3.05</td>\n",
       "      <td>1.0</td>\n",
       "      <td>1.0</td>\n",
       "      <td>1.0</td>\n",
       "      <td>4.0</td>\n",
       "      <td>10.0</td>\n",
       "    </tr>\n",
       "    <tr>\n",
       "      <th>mitoses</th>\n",
       "      <td>699.0</td>\n",
       "      <td>1.59</td>\n",
       "      <td>1.72</td>\n",
       "      <td>1.0</td>\n",
       "      <td>1.0</td>\n",
       "      <td>1.0</td>\n",
       "      <td>1.0</td>\n",
       "      <td>10.0</td>\n",
       "    </tr>\n",
       "  </tbody>\n",
       "</table>\n",
       "</div>"
      ],
      "text/plain": [
       "                       count  mean   std  min  25%  50%  75%   max\n",
       "clump_thickness        699.0  4.42  2.82  1.0  2.0  4.0  6.0  10.0\n",
       "uniformity_cell_size   699.0  3.13  3.05  1.0  1.0  1.0  5.0  10.0\n",
       "uniformity_cell_shape  699.0  3.21  2.97  1.0  1.0  1.0  5.0  10.0\n",
       "marginal_adhesion      699.0  2.81  2.86  1.0  1.0  1.0  4.0  10.0\n",
       "single_epi_cell_size   699.0  3.22  2.21  1.0  2.0  2.0  4.0  10.0\n",
       "bare_nuclei            683.0  3.54  3.64  1.0  1.0  1.0  6.0  10.0\n",
       "bland_chromatin        699.0  3.44  2.44  1.0  2.0  3.0  5.0  10.0\n",
       "normal_nucleoli        699.0  2.87  3.05  1.0  1.0  1.0  4.0  10.0\n",
       "mitoses                699.0  1.59  1.72  1.0  1.0  1.0  1.0  10.0"
      ]
     },
     "execution_count": 14,
     "metadata": {},
     "output_type": "execute_result"
    }
   ],
   "source": [
    "# Listing numerical features and their statistical description\n",
    "\n",
    "df.select_dtypes(exclude=['object']).describe().round(decimals=2).transpose()"
   ]
  },
  {
   "cell_type": "code",
   "execution_count": 15,
   "id": "175c5aa3",
   "metadata": {},
   "outputs": [
    {
     "name": "stdout",
     "output_type": "stream",
     "text": [
      "Number of bare_nuclei missing values :  16\n"
     ]
    }
   ],
   "source": [
    "# Checking for missing values\n",
    "\n",
    "print ('Number of bare_nuclei missing values : ', df.bare_nuclei.isnull().sum())"
   ]
  },
  {
   "cell_type": "code",
   "execution_count": 16,
   "id": "79b1ac9a",
   "metadata": {},
   "outputs": [
    {
     "name": "stdout",
     "output_type": "stream",
     "text": [
      "Number of rows with valid bare_nuclei values after filling NA values:  699\n"
     ]
    }
   ],
   "source": [
    "# We shall replace the bare_nuclei missing values using the mean of the remaining values.\n",
    "\n",
    "meanbare_nuclei = df['bare_nuclei'].mean()\n",
    "df.bare_nuclei = df.bare_nuclei.fillna(value=meanbare_nuclei)\n",
    "print('Number of rows with valid bare_nuclei values after filling NA values: ',\n",
    "       df['bare_nuclei'].count())"
   ]
  },
  {
   "cell_type": "markdown",
   "id": "cf4bc19e",
   "metadata": {},
   "source": [
    "All features now have the same count size of 699 "
   ]
  },
  {
   "cell_type": "code",
   "execution_count": 17,
   "id": "0cb1386a",
   "metadata": {},
   "outputs": [
    {
     "data": {
      "text/plain": [
       "2    458\n",
       "4    241\n",
       "Name: class, dtype: int64"
      ]
     },
     "execution_count": 17,
     "metadata": {},
     "output_type": "execute_result"
    }
   ],
   "source": [
    "# Number of values in the \"class\" categorical feature\n",
    "\n",
    "df['class'].value_counts()"
   ]
  },
  {
   "cell_type": "markdown",
   "id": "3b17ee66",
   "metadata": {},
   "source": [
    "458 patients have benign tumor, while 241 have malignant tumor"
   ]
  },
  {
   "cell_type": "code",
   "execution_count": 18,
   "id": "deedb86a",
   "metadata": {},
   "outputs": [
    {
     "data": {
      "text/plain": [
       "699"
      ]
     },
     "execution_count": 18,
     "metadata": {},
     "output_type": "execute_result"
    }
   ],
   "source": [
    "# Summing up the count size of 'class'\n",
    "\n",
    "df['class'].value_counts().sum()"
   ]
  },
  {
   "cell_type": "markdown",
   "id": "90bbafcc",
   "metadata": {},
   "source": [
    "'class' has a total of 699 counts. "
   ]
  },
  {
   "cell_type": "code",
   "execution_count": 19,
   "id": "bcae6c5e",
   "metadata": {},
   "outputs": [
    {
     "data": {
      "text/html": [
       "<div>\n",
       "<style scoped>\n",
       "    .dataframe tbody tr th:only-of-type {\n",
       "        vertical-align: middle;\n",
       "    }\n",
       "\n",
       "    .dataframe tbody tr th {\n",
       "        vertical-align: top;\n",
       "    }\n",
       "\n",
       "    .dataframe thead th {\n",
       "        text-align: right;\n",
       "    }\n",
       "</style>\n",
       "<table border=\"1\" class=\"dataframe\">\n",
       "  <thead>\n",
       "    <tr style=\"text-align: right;\">\n",
       "      <th></th>\n",
       "      <th>ID</th>\n",
       "      <th>clump_thickness</th>\n",
       "      <th>uniformity_cell_size</th>\n",
       "      <th>uniformity_cell_shape</th>\n",
       "      <th>marginal_adhesion</th>\n",
       "      <th>single_epi_cell_size</th>\n",
       "      <th>bare_nuclei</th>\n",
       "      <th>bland_chromatin</th>\n",
       "      <th>normal_nucleoli</th>\n",
       "      <th>mitoses</th>\n",
       "      <th>class</th>\n",
       "    </tr>\n",
       "  </thead>\n",
       "  <tbody>\n",
       "    <tr>\n",
       "      <th>0</th>\n",
       "      <td>1000025</td>\n",
       "      <td>5</td>\n",
       "      <td>1</td>\n",
       "      <td>1</td>\n",
       "      <td>1</td>\n",
       "      <td>2</td>\n",
       "      <td>1.0</td>\n",
       "      <td>3</td>\n",
       "      <td>1</td>\n",
       "      <td>1</td>\n",
       "      <td>Benign</td>\n",
       "    </tr>\n",
       "    <tr>\n",
       "      <th>1</th>\n",
       "      <td>1002945</td>\n",
       "      <td>5</td>\n",
       "      <td>4</td>\n",
       "      <td>4</td>\n",
       "      <td>5</td>\n",
       "      <td>7</td>\n",
       "      <td>10.0</td>\n",
       "      <td>3</td>\n",
       "      <td>2</td>\n",
       "      <td>1</td>\n",
       "      <td>Benign</td>\n",
       "    </tr>\n",
       "    <tr>\n",
       "      <th>2</th>\n",
       "      <td>1015425</td>\n",
       "      <td>3</td>\n",
       "      <td>1</td>\n",
       "      <td>1</td>\n",
       "      <td>1</td>\n",
       "      <td>2</td>\n",
       "      <td>2.0</td>\n",
       "      <td>3</td>\n",
       "      <td>1</td>\n",
       "      <td>1</td>\n",
       "      <td>Benign</td>\n",
       "    </tr>\n",
       "    <tr>\n",
       "      <th>3</th>\n",
       "      <td>1016277</td>\n",
       "      <td>6</td>\n",
       "      <td>8</td>\n",
       "      <td>8</td>\n",
       "      <td>1</td>\n",
       "      <td>3</td>\n",
       "      <td>4.0</td>\n",
       "      <td>3</td>\n",
       "      <td>7</td>\n",
       "      <td>1</td>\n",
       "      <td>Benign</td>\n",
       "    </tr>\n",
       "    <tr>\n",
       "      <th>4</th>\n",
       "      <td>1017023</td>\n",
       "      <td>4</td>\n",
       "      <td>1</td>\n",
       "      <td>1</td>\n",
       "      <td>3</td>\n",
       "      <td>2</td>\n",
       "      <td>1.0</td>\n",
       "      <td>3</td>\n",
       "      <td>1</td>\n",
       "      <td>1</td>\n",
       "      <td>Benign</td>\n",
       "    </tr>\n",
       "    <tr>\n",
       "      <th>...</th>\n",
       "      <td>...</td>\n",
       "      <td>...</td>\n",
       "      <td>...</td>\n",
       "      <td>...</td>\n",
       "      <td>...</td>\n",
       "      <td>...</td>\n",
       "      <td>...</td>\n",
       "      <td>...</td>\n",
       "      <td>...</td>\n",
       "      <td>...</td>\n",
       "      <td>...</td>\n",
       "    </tr>\n",
       "    <tr>\n",
       "      <th>694</th>\n",
       "      <td>776715</td>\n",
       "      <td>3</td>\n",
       "      <td>1</td>\n",
       "      <td>1</td>\n",
       "      <td>1</td>\n",
       "      <td>3</td>\n",
       "      <td>2.0</td>\n",
       "      <td>1</td>\n",
       "      <td>1</td>\n",
       "      <td>1</td>\n",
       "      <td>Benign</td>\n",
       "    </tr>\n",
       "    <tr>\n",
       "      <th>695</th>\n",
       "      <td>841769</td>\n",
       "      <td>2</td>\n",
       "      <td>1</td>\n",
       "      <td>1</td>\n",
       "      <td>1</td>\n",
       "      <td>2</td>\n",
       "      <td>1.0</td>\n",
       "      <td>1</td>\n",
       "      <td>1</td>\n",
       "      <td>1</td>\n",
       "      <td>Benign</td>\n",
       "    </tr>\n",
       "    <tr>\n",
       "      <th>696</th>\n",
       "      <td>888820</td>\n",
       "      <td>5</td>\n",
       "      <td>10</td>\n",
       "      <td>10</td>\n",
       "      <td>3</td>\n",
       "      <td>7</td>\n",
       "      <td>3.0</td>\n",
       "      <td>8</td>\n",
       "      <td>10</td>\n",
       "      <td>2</td>\n",
       "      <td>Malignant</td>\n",
       "    </tr>\n",
       "    <tr>\n",
       "      <th>697</th>\n",
       "      <td>897471</td>\n",
       "      <td>4</td>\n",
       "      <td>8</td>\n",
       "      <td>6</td>\n",
       "      <td>4</td>\n",
       "      <td>3</td>\n",
       "      <td>4.0</td>\n",
       "      <td>10</td>\n",
       "      <td>6</td>\n",
       "      <td>1</td>\n",
       "      <td>Malignant</td>\n",
       "    </tr>\n",
       "    <tr>\n",
       "      <th>698</th>\n",
       "      <td>897471</td>\n",
       "      <td>4</td>\n",
       "      <td>8</td>\n",
       "      <td>8</td>\n",
       "      <td>5</td>\n",
       "      <td>4</td>\n",
       "      <td>5.0</td>\n",
       "      <td>10</td>\n",
       "      <td>4</td>\n",
       "      <td>1</td>\n",
       "      <td>Malignant</td>\n",
       "    </tr>\n",
       "  </tbody>\n",
       "</table>\n",
       "<p>699 rows × 11 columns</p>\n",
       "</div>"
      ],
      "text/plain": [
       "          ID  clump_thickness  uniformity_cell_size  uniformity_cell_shape  \\\n",
       "0    1000025                5                     1                      1   \n",
       "1    1002945                5                     4                      4   \n",
       "2    1015425                3                     1                      1   \n",
       "3    1016277                6                     8                      8   \n",
       "4    1017023                4                     1                      1   \n",
       "..       ...              ...                   ...                    ...   \n",
       "694   776715                3                     1                      1   \n",
       "695   841769                2                     1                      1   \n",
       "696   888820                5                    10                     10   \n",
       "697   897471                4                     8                      6   \n",
       "698   897471                4                     8                      8   \n",
       "\n",
       "     marginal_adhesion  single_epi_cell_size  bare_nuclei  bland_chromatin  \\\n",
       "0                    1                     2          1.0                3   \n",
       "1                    5                     7         10.0                3   \n",
       "2                    1                     2          2.0                3   \n",
       "3                    1                     3          4.0                3   \n",
       "4                    3                     2          1.0                3   \n",
       "..                 ...                   ...          ...              ...   \n",
       "694                  1                     3          2.0                1   \n",
       "695                  1                     2          1.0                1   \n",
       "696                  3                     7          3.0                8   \n",
       "697                  4                     3          4.0               10   \n",
       "698                  5                     4          5.0               10   \n",
       "\n",
       "     normal_nucleoli  mitoses      class  \n",
       "0                  1        1     Benign  \n",
       "1                  2        1     Benign  \n",
       "2                  1        1     Benign  \n",
       "3                  7        1     Benign  \n",
       "4                  1        1     Benign  \n",
       "..               ...      ...        ...  \n",
       "694                1        1     Benign  \n",
       "695                1        1     Benign  \n",
       "696               10        2  Malignant  \n",
       "697                6        1  Malignant  \n",
       "698                4        1  Malignant  \n",
       "\n",
       "[699 rows x 11 columns]"
      ]
     },
     "execution_count": 19,
     "metadata": {},
     "output_type": "execute_result"
    }
   ],
   "source": [
    "# Let's map the class categorical values to its actual meaning \n",
    "df['class'] = df['class'].map({2:'Benign', 4:'Malignant'})\n",
    "df"
   ]
  },
  {
   "cell_type": "markdown",
   "id": "47795d44",
   "metadata": {},
   "source": [
    "**Building the Classification Models**"
   ]
  },
  {
   "cell_type": "code",
   "execution_count": 20,
   "id": "0f360cbc",
   "metadata": {},
   "outputs": [
    {
     "data": {
      "text/html": [
       "<div>\n",
       "<style scoped>\n",
       "    .dataframe tbody tr th:only-of-type {\n",
       "        vertical-align: middle;\n",
       "    }\n",
       "\n",
       "    .dataframe tbody tr th {\n",
       "        vertical-align: top;\n",
       "    }\n",
       "\n",
       "    .dataframe thead th {\n",
       "        text-align: right;\n",
       "    }\n",
       "</style>\n",
       "<table border=\"1\" class=\"dataframe\">\n",
       "  <thead>\n",
       "    <tr style=\"text-align: right;\">\n",
       "      <th></th>\n",
       "      <th>ID</th>\n",
       "      <th>clump_thickness</th>\n",
       "      <th>uniformity_cell_size</th>\n",
       "      <th>uniformity_cell_shape</th>\n",
       "      <th>marginal_adhesion</th>\n",
       "      <th>single_epi_cell_size</th>\n",
       "      <th>bare_nuclei</th>\n",
       "      <th>bland_chromatin</th>\n",
       "      <th>normal_nucleoli</th>\n",
       "      <th>mitoses</th>\n",
       "      <th>class</th>\n",
       "    </tr>\n",
       "  </thead>\n",
       "  <tbody>\n",
       "    <tr>\n",
       "      <th>0</th>\n",
       "      <td>1000025</td>\n",
       "      <td>5</td>\n",
       "      <td>1</td>\n",
       "      <td>1</td>\n",
       "      <td>1</td>\n",
       "      <td>2</td>\n",
       "      <td>1.0</td>\n",
       "      <td>3</td>\n",
       "      <td>1</td>\n",
       "      <td>1</td>\n",
       "      <td>Benign</td>\n",
       "    </tr>\n",
       "    <tr>\n",
       "      <th>1</th>\n",
       "      <td>1002945</td>\n",
       "      <td>5</td>\n",
       "      <td>4</td>\n",
       "      <td>4</td>\n",
       "      <td>5</td>\n",
       "      <td>7</td>\n",
       "      <td>10.0</td>\n",
       "      <td>3</td>\n",
       "      <td>2</td>\n",
       "      <td>1</td>\n",
       "      <td>Benign</td>\n",
       "    </tr>\n",
       "    <tr>\n",
       "      <th>2</th>\n",
       "      <td>1015425</td>\n",
       "      <td>3</td>\n",
       "      <td>1</td>\n",
       "      <td>1</td>\n",
       "      <td>1</td>\n",
       "      <td>2</td>\n",
       "      <td>2.0</td>\n",
       "      <td>3</td>\n",
       "      <td>1</td>\n",
       "      <td>1</td>\n",
       "      <td>Benign</td>\n",
       "    </tr>\n",
       "    <tr>\n",
       "      <th>3</th>\n",
       "      <td>1016277</td>\n",
       "      <td>6</td>\n",
       "      <td>8</td>\n",
       "      <td>8</td>\n",
       "      <td>1</td>\n",
       "      <td>3</td>\n",
       "      <td>4.0</td>\n",
       "      <td>3</td>\n",
       "      <td>7</td>\n",
       "      <td>1</td>\n",
       "      <td>Benign</td>\n",
       "    </tr>\n",
       "    <tr>\n",
       "      <th>4</th>\n",
       "      <td>1017023</td>\n",
       "      <td>4</td>\n",
       "      <td>1</td>\n",
       "      <td>1</td>\n",
       "      <td>3</td>\n",
       "      <td>2</td>\n",
       "      <td>1.0</td>\n",
       "      <td>3</td>\n",
       "      <td>1</td>\n",
       "      <td>1</td>\n",
       "      <td>Benign</td>\n",
       "    </tr>\n",
       "  </tbody>\n",
       "</table>\n",
       "</div>"
      ],
      "text/plain": [
       "        ID  clump_thickness  uniformity_cell_size  uniformity_cell_shape  \\\n",
       "0  1000025                5                     1                      1   \n",
       "1  1002945                5                     4                      4   \n",
       "2  1015425                3                     1                      1   \n",
       "3  1016277                6                     8                      8   \n",
       "4  1017023                4                     1                      1   \n",
       "\n",
       "   marginal_adhesion  single_epi_cell_size  bare_nuclei  bland_chromatin  \\\n",
       "0                  1                     2          1.0                3   \n",
       "1                  5                     7         10.0                3   \n",
       "2                  1                     2          2.0                3   \n",
       "3                  1                     3          4.0                3   \n",
       "4                  3                     2          1.0                3   \n",
       "\n",
       "   normal_nucleoli  mitoses   class  \n",
       "0                1        1  Benign  \n",
       "1                2        1  Benign  \n",
       "2                1        1  Benign  \n",
       "3                7        1  Benign  \n",
       "4                1        1  Benign  "
      ]
     },
     "execution_count": 20,
     "metadata": {},
     "output_type": "execute_result"
    }
   ],
   "source": [
    "# let's examine the cleaned/transformed dataset\n",
    "\n",
    "df.head()"
   ]
  },
  {
   "cell_type": "code",
   "execution_count": 21,
   "id": "00968da0",
   "metadata": {},
   "outputs": [],
   "source": [
    "# Selecting predictor and target variables\n",
    "\n",
    "X = df[['bare_nuclei', 'uniformity_cell_size', 'uniformity_cell_shape', 'bland_chromatin']]\n",
    "Y = df['class']"
   ]
  },
  {
   "cell_type": "code",
   "execution_count": 22,
   "id": "50e244d9",
   "metadata": {},
   "outputs": [],
   "source": [
    "# Splitting the dataset such that the test data size is 25% of the total dataset\n",
    "\n",
    "\n",
    "X_train, X_test, y_train, y_test = train_test_split(X, Y, test_size=0.25, random_state=7)"
   ]
  },
  {
   "cell_type": "markdown",
   "id": "e4c4e841",
   "metadata": {},
   "source": [
    "**Kernel SVM Model**"
   ]
  },
  {
   "cell_type": "code",
   "execution_count": 23,
   "id": "9b4f95ca",
   "metadata": {},
   "outputs": [
    {
     "name": "stdout",
     "output_type": "stream",
     "text": [
      "Kernel SVM\n",
      "Accuracy: 0.9428571428571428\n",
      "Confusion Matrix:\n",
      "[[109   5]\n",
      " [  5  56]]\n",
      "\n",
      "              precision    recall  f1-score   support\n",
      "\n",
      "      Benign       0.96      0.96      0.96       114\n",
      "   Malignant       0.92      0.92      0.92        61\n",
      "\n",
      "    accuracy                           0.94       175\n",
      "   macro avg       0.94      0.94      0.94       175\n",
      "weighted avg       0.94      0.94      0.94       175\n",
      "\n"
     ]
    }
   ],
   "source": [
    "# Training the model and predicting on test data\n",
    "\n",
    "rsvm = SVC(kernel = 'rbf', random_state = 0)  \n",
    "rsvm.fit(X_train, y_train.ravel())\n",
    "y_pred = rsvm.predict(X_test)\n",
    "\n",
    "print(\"Kernel SVM\")\n",
    "print(f\"Accuracy: {accuracy_score(y_test, y_pred)}\")\n",
    "print(f\"Confusion Matrix:\\n{confusion_matrix(y_test, y_pred)}\\n\")\n",
    "print(classification_report(y_test, y_pred, target_names=['Benign','Malignant']))"
   ]
  },
  {
   "cell_type": "code",
   "execution_count": 24,
   "id": "fe7d8f87",
   "metadata": {},
   "outputs": [],
   "source": [
    "import pickle\n",
    "# Open a file and use dump() \n",
    "with open('file_breastcancer.pkl', 'wb') as file: \n",
    "      \n",
    "    # A new file will be created \n",
    "    pickle.dump(rsvm, file)"
   ]
  },
  {
   "cell_type": "code",
   "execution_count": null,
   "id": "994fd1d1",
   "metadata": {},
   "outputs": [],
   "source": []
  }
 ],
 "metadata": {
  "kernelspec": {
   "display_name": "Python 3 (ipykernel)",
   "language": "python",
   "name": "python3"
  },
  "language_info": {
   "codemirror_mode": {
    "name": "ipython",
    "version": 3
   },
   "file_extension": ".py",
   "mimetype": "text/x-python",
   "name": "python",
   "nbconvert_exporter": "python",
   "pygments_lexer": "ipython3",
   "version": "3.11.4"
  }
 },
 "nbformat": 4,
 "nbformat_minor": 5
}
